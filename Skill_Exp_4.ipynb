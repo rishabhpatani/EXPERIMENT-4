{
  "nbformat": 4,
  "nbformat_minor": 0,
  "metadata": {
    "colab": {
      "provenance": []
    },
    "kernelspec": {
      "name": "python3",
      "display_name": "Python 3"
    },
    "language_info": {
      "name": "python"
    }
  },
  "cells": [
    {
      "cell_type": "code",
      "execution_count": 1,
      "metadata": {
        "colab": {
          "base_uri": "https://localhost:8080/"
        },
        "id": "eWQO9GgdehlK",
        "outputId": "444fbd32-8f3f-46a8-8a4e-13fdefa334b1"
      },
      "outputs": [
        {
          "output_type": "stream",
          "name": "stdout",
          "text": [
            "Original Dataset:\n",
            "    Feature1  Feature2\n",
            "0       100        10\n",
            "1       200        20\n",
            "2       300        30\n",
            "3       400        40\n",
            "4       500        50\n",
            "\n",
            "Normalized Dataset:\n",
            "    Feature1  Feature2\n",
            "0      0.00      0.00\n",
            "1      0.25      0.25\n",
            "2      0.50      0.50\n",
            "3      0.75      0.75\n",
            "4      1.00      1.00\n"
          ]
        }
      ],
      "source": [
        "import pandas as pd\n",
        "import numpy as np\n",
        "from sklearn.preprocessing import MinMaxScaler\n",
        "\n",
        "# Creating a sample dataset\n",
        "data = {\n",
        "    \"Feature1\": [100, 200, 300, 400, 500],\n",
        "    \"Feature2\": [10, 20, 30, 40, 50]\n",
        "}\n",
        "df = pd.DataFrame(data)\n",
        "\n",
        "# Applying Min-Max Scaling\n",
        "scaler = MinMaxScaler()\n",
        "df_scaled = pd.DataFrame(scaler.fit_transform(df), columns=df.columns)\n",
        "\n",
        "# Displaying the original and normalized dataset\n",
        "print(\"Original Dataset:\\n\", df)\n",
        "print(\"\\nNormalized Dataset:\\n\", df_scaled)"
      ]
    }
  ]
}